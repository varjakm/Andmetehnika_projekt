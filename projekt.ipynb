{
 "cells": [
  {
   "cell_type": "code",
   "execution_count": null,
   "metadata": {},
   "outputs": [],
   "source": [
    "#%pip install seaborn\n",
    "#%pip install pandas\n",
    "#%pip install numpy\n",
    "#%pip install zipfile\n",
    "#%pip install matplotlib\n",
    "#%pip install requests\n",
    "import requests\n",
    "import pandas as pd\n",
    "import numpy as np\n",
    "import os\n",
    "import zipfile\n",
    "import numpy as np\n",
    "import seaborn as sns\n",
    "import matplotlib.pyplot as plt"
   ]
  },
  {
   "cell_type": "code",
   "execution_count": null,
   "metadata": {},
   "outputs": [],
   "source": [
    "#List of countries and regions are here: https://unstats.un.org/unsd/methodology/m49/overview/ but website using\n",
    "#javascript and not providing link for csv file directly\n",
    "#Workaround:\n",
    "#Using a github page to download a csv file\n",
    "url = \"https://github.com/lukes/ISO-3166-Countries-with-Regional-Codes/raw/master/all/all.csv\"\n",
    "filename = \"countries.csv\"\n",
    "\n",
    "response = requests.get(url)\n",
    "\n",
    "if response.status_code == 200:\n",
    "    with open(filename, \"wb\") as file:\n",
    "        file.write(response.content)\n",
    "    print(\"CSV file downloaded successfully.\")\n",
    "else:\n",
    "    print(\"Failed to download the CSV file.\")"
   ]
  },
  {
   "cell_type": "code",
   "execution_count": null,
   "metadata": {},
   "outputs": [],
   "source": [
    "df_countries=pd.read_csv(\"countries.csv\")"
   ]
  },
  {
   "cell_type": "code",
   "execution_count": null,
   "metadata": {},
   "outputs": [],
   "source": [
    "#To find a file of your interest: https://data.worldbank.org/indicator\n",
    "#Clicking on a subset allows to get address to download csv-file\n",
    "\n",
    "#These are addresses to obtain the data for GDP per capita, life expectancy and literacy rate\n",
    "url_list=[\"https://api.worldbank.org/v2/en/indicator/NY.GDP.PCAP.PP.CD?downloadformat=csv\", \\\n",
    "          \"https://api.worldbank.org/v2/en/indicator/SP.DYN.LE00.IN?downloadformat=csv\",\\\n",
    "            \"https://api.worldbank.org/v2/en/indicator/SE.ADT.LITR.ZS?downloadformat=csv\"]"
   ]
  },
  {
   "cell_type": "code",
   "execution_count": null,
   "metadata": {},
   "outputs": [],
   "source": [
    "#Also, giving names for the data to be obtained\n",
    "data_list=[\"gdp_per_capita\", \"life_expectancy\", \"literacy\"]"
   ]
  },
  {
   "cell_type": "code",
   "execution_count": null,
   "metadata": {},
   "outputs": [],
   "source": [
    "#First, making folder to download the data from web, names based on data_list\n",
    "for d in data_list:\n",
    "    if not os.path.exists(d):\n",
    "        os.makedirs(d)\n",
    "    if not os.path.exists(d+\"_unpacked\"):\n",
    "        os.makedirs(d+\"_unpacked\")"
   ]
  },
  {
   "cell_type": "code",
   "execution_count": null,
   "metadata": {},
   "outputs": [],
   "source": [
    "#Here one by one, I dowload the data and put into a right folder\n",
    "for d, u in zip(data_list, url_list):\n",
    "    response = requests.get(u)\n",
    "    if response.status_code == 200:\n",
    "        with open(d+\"/\"+d+\".zip\", \"wb\") as file:\n",
    "            file.write(response.content)\n",
    "        print(\"Zip file downloaded successfully!\")\n",
    "    else:\n",
    "        print(\"Failed to retrieve the zip file.\")"
   ]
  },
  {
   "cell_type": "code",
   "execution_count": null,
   "metadata": {},
   "outputs": [],
   "source": [
    "#Unpacking the data as well\n",
    "for d in data_list:\n",
    "    zip_file_path=d+\"/\"+d+\".zip\"\n",
    "    destination_folder=d+\"_unpacked\"\n",
    "    with zipfile.ZipFile(zip_file_path, 'r') as zip_ref:\n",
    "        zip_ref.extractall(destination_folder)\n",
    "    print(\"Extraction completed!\")\n"
   ]
  },
  {
   "cell_type": "code",
   "execution_count": null,
   "metadata": {},
   "outputs": [],
   "source": [
    "#To remove excess rows in the csv file, an additional method:\n",
    "def copy_file(source_file, destination_file):\n",
    "    with open(source_file, 'r') as source:\n",
    "        with open(destination_file, 'w') as destination:\n",
    "            counter=0\n",
    "            for line in source:\n",
    "                if(counter>3):\n",
    "                    destination.write(line)\n",
    "                counter=counter+1"
   ]
  },
  {
   "cell_type": "code",
   "execution_count": null,
   "metadata": {},
   "outputs": [],
   "source": [
    "#Removing extra rows from the csv file:\n",
    "for d in data_list:\n",
    "    file_list=os.listdir(d+\"_unpacked\")\n",
    "    file_list.sort()\n",
    "    source_file=d+\"_unpacked/\"+file_list[0]\n",
    "    destination_file=d+\".csv\"\n",
    "    copy_file(source_file, destination_file)"
   ]
  },
  {
   "cell_type": "code",
   "execution_count": null,
   "metadata": {},
   "outputs": [],
   "source": [
    "#Using pandas, going to create the dataframe list:\n",
    "df_list=[]\n",
    "for d in data_list:\n",
    "    temp_df=pd.read_csv(d+\".csv\")\n",
    "    df_list.append(temp_df)"
   ]
  },
  {
   "cell_type": "code",
   "execution_count": null,
   "metadata": {},
   "outputs": [],
   "source": [
    "#The last column is empty, must be removed\n",
    "df_list[0].head(5)"
   ]
  },
  {
   "cell_type": "code",
   "execution_count": null,
   "metadata": {},
   "outputs": [],
   "source": [
    "#Running the deletion\n",
    "for n in range(len(df_list)):\n",
    "    df_list[n]=df_list[n][df_list[n].columns[:-2]]"
   ]
  },
  {
   "cell_type": "code",
   "execution_count": null,
   "metadata": {},
   "outputs": [],
   "source": [
    "#Checking\n",
    "df_list[0].head()"
   ]
  },
  {
   "cell_type": "code",
   "execution_count": null,
   "metadata": {},
   "outputs": [],
   "source": [
    "#Here I extract regions and sub-region from countries file and renaming a column\n",
    "df_countries_small=df_countries[[\"name\",\"alpha-3\",\"region\",\"sub-region\"]]\n",
    "df_countries_small = df_countries_small.rename(columns={'name': 'Country Name','alpha-3':'Country Code'})"
   ]
  },
  {
   "cell_type": "code",
   "execution_count": null,
   "metadata": {},
   "outputs": [],
   "source": [
    "#Conducting merge on country names\n",
    "#For gdp per capita\n",
    "df_gdppcap=df_countries_small.merge(df_list[0], on='Country Code', how='inner')\n",
    "#For life expectancy\n",
    "df_lifeexp=df_countries_small.merge(df_list[1], on='Country Code', how='inner')\n",
    "#For literacy\n",
    "df_literacy=df_countries_small.merge(df_list[2], on='Country Code', how='inner')\n",
    "##These are the dataframes one can work now!\n"
   ]
  },
  {
   "cell_type": "code",
   "execution_count": null,
   "metadata": {},
   "outputs": [],
   "source": [
    "df_gdppcap.columns"
   ]
  },
  {
   "cell_type": "code",
   "execution_count": null,
   "metadata": {},
   "outputs": [],
   "source": [
    "df_gdppcap = df_gdppcap.drop('Country Name_y', axis=1)\n",
    "df_lifeexp = df_lifeexp.drop('Country Name_y', axis=1)\n",
    "df_literacy = df_literacy.drop('Country Name_y', axis=1)"
   ]
  },
  {
   "cell_type": "code",
   "execution_count": null,
   "metadata": {},
   "outputs": [],
   "source": [
    "df_gdppcap  = df_gdppcap.rename(columns={'Country Name_x': 'Country Name'})\n",
    "df_lifeexp  = df_lifeexp.rename(columns={'Country Name_x': 'Country Name'})\n",
    "df_literacy  = df_literacy.rename(columns={'Country Name_x': 'Country Name'})"
   ]
  },
  {
   "cell_type": "code",
   "execution_count": null,
   "metadata": {},
   "outputs": [],
   "source": [
    "#Here saving dataframes as csv files for PowerBI\n",
    "#These are time-series\n",
    "if not os.path.exists('ForPowerBI'):\n",
    "    os.makedirs('ForPowerBI')\n",
    "df_gdppcap.to_csv('ForPowerBI/df_gdppcap.csv')\n",
    "df_lifeexp.to_csv('ForPowerBI/df_lifeexp.csv')\n",
    "df_literacy.to_csv('ForPowerBI/df_literacy.csv')"
   ]
  },
  {
   "cell_type": "code",
   "execution_count": null,
   "metadata": {},
   "outputs": [],
   "source": [
    "#Also these same dataframes go to a separate folder: Dataframes_as_CSV\n",
    "if not os.path.exists('Dataframes_as_CSV'):\n",
    "    os.makedirs('Dataframes_as_CSV')\n",
    "df_gdppcap.to_csv('Dataframes_as_CSV/df_gdppcap.csv')\n",
    "df_lifeexp.to_csv('Dataframes_as_CSV/df_lifeexp.csv')\n",
    "df_literacy.to_csv('Dataframes_as_CSV/df_literacy.csv')"
   ]
  },
  {
   "cell_type": "code",
   "execution_count": null,
   "metadata": {},
   "outputs": [],
   "source": [
    "if not os.path.exists('Figures'):\n",
    "    os.makedirs('Figures')"
   ]
  },
  {
   "cell_type": "code",
   "execution_count": null,
   "metadata": {},
   "outputs": [],
   "source": [
    "#To get literacy values for year 2021, replacing NaN with np.nan\n",
    "df_literacy=df_literacy.replace('NaN',np.nan)\n",
    "#Filling np.nan with closest value to the left\n",
    "df_literacy=df_literacy.ffill(axis=1)\n",
    "df_literacy.head()"
   ]
  },
  {
   "cell_type": "code",
   "execution_count": null,
   "metadata": {},
   "outputs": [],
   "source": [
    "#Getting values to year 2021\n",
    "df_literacy_2021=df_literacy[['Country Name','region','sub-region','2021']]\n",
    "df_literacy_2021.head()"
   ]
  },
  {
   "cell_type": "code",
   "execution_count": null,
   "metadata": {},
   "outputs": [],
   "source": [
    "#One more change-removing these rows, where literacy could not be extrapolated\n",
    "df_literacy_2021=df_literacy_2021[pd.to_numeric(df_literacy_2021['2021'], errors='coerce').notna()]\n",
    "df_literacy_2021.head()"
   ]
  },
  {
   "cell_type": "code",
   "execution_count": null,
   "metadata": {},
   "outputs": [],
   "source": [
    "#Getting gdp per capita for 2021\n",
    "#To get literacy values for year 2021, replacing NaN with np.nan\n",
    "df_gdppcap=df_gdppcap.replace('NaN',np.nan)\n",
    "#Getting for year 2021\n",
    "df_gdppcap_2021=df_gdppcap[['Country Name','2021']]\n",
    "#Removing these rows, where np.nan\n",
    "df_gdppcap_2021=df_gdppcap_2021.dropna()"
   ]
  },
  {
   "cell_type": "code",
   "execution_count": null,
   "metadata": {},
   "outputs": [],
   "source": [
    "#Merging gdppcap_2021 with literacy_2021\n",
    "df_gdppcap_literacy_2021=df_literacy_2021.merge(df_gdppcap_2021, on='Country Name', how='inner')\n",
    "df_gdppcap_literacy_2021.head()\n"
   ]
  },
  {
   "cell_type": "code",
   "execution_count": null,
   "metadata": {},
   "outputs": [],
   "source": [
    "df_gdppcap_literacy_2021 = df_gdppcap_literacy_2021.rename(columns={'2021_x': 'Literacy', '2021_y':'GDPPCAP'})\n",
    "df_gdppcap_literacy_2021.head()"
   ]
  },
  {
   "cell_type": "code",
   "execution_count": null,
   "metadata": {},
   "outputs": [],
   "source": [
    "sns.scatterplot(x=\"Literacy\",\n",
    "                    y=\"GDPPCAP\",\n",
    "                    data=df_gdppcap_literacy_2021, hue='region').set(title='GDP per Capita vs Literacy in 2021')\n",
    "plt.legend(title='Region')\n",
    "plt.savefig(\"Figures/Figure1.png\")"
   ]
  },
  {
   "cell_type": "code",
   "execution_count": null,
   "metadata": {},
   "outputs": [],
   "source": [
    "#Also that to csv file\n",
    "df_gdppcap_literacy_2021.to_csv('Dataframes_as_CSV/df_gdppcap_literacy_2021.csv')"
   ]
  },
  {
   "cell_type": "code",
   "execution_count": null,
   "metadata": {},
   "outputs": [],
   "source": [
    "#Here I want to extract only country and values for each year\n",
    "#Extract years from column names\n",
    "years=list(df_gdppcap.columns)[6:]\n",
    "#A trick to add 'Country name' as a wanted column\n",
    "Country=['Country Name']\n",
    "#Extraction itself\n",
    "df_gdppcap_country=df_gdppcap[Country+years]"
   ]
  },
  {
   "cell_type": "code",
   "execution_count": null,
   "metadata": {},
   "outputs": [],
   "source": [
    "#Checking progress\n",
    "df_gdppcap_country.head()"
   ]
  },
  {
   "cell_type": "code",
   "execution_count": null,
   "metadata": {},
   "outputs": [],
   "source": [
    "df_gdppcap_country=df_gdppcap_country.dropna(subset=years, how='all')"
   ]
  },
  {
   "cell_type": "code",
   "execution_count": null,
   "metadata": {},
   "outputs": [],
   "source": [
    "#Also making a dataframe for sub-regions and taking average for each year\n",
    "df_gdppcap_subregion=df_gdppcap.groupby(['sub-region'])[years].mean().reset_index()\n"
   ]
  },
  {
   "cell_type": "code",
   "execution_count": null,
   "metadata": {},
   "outputs": [],
   "source": [
    "#Such process would necessary for lineplot, melting\n",
    "df_gdppcap_subregion.melt(id_vars=['sub-region'])"
   ]
  },
  {
   "cell_type": "code",
   "execution_count": null,
   "metadata": {},
   "outputs": [],
   "source": [
    "#The dataframe has to be melted\n",
    "plt.figure(figsize=(15, 15))\n",
    "\n",
    "sns.lineplot(data=df_gdppcap_subregion.melt(id_vars=['sub-region']), \n",
    "             x='variable', y='value', hue='sub-region', palette='tab20',lw=5).set(title='GDP per capita in different regions')\n",
    "\n",
    "plt.xticks(rotation=45)\n",
    "plt.legend(title='Region')\n",
    "plt.savefig(\"Figures/Figure2.png\")\n",
    "#No extra text as output, thus 'None' needed\n",
    "None\n"
   ]
  },
  {
   "cell_type": "code",
   "execution_count": null,
   "metadata": {},
   "outputs": [],
   "source": [
    "#Also that to csv\n",
    "df_gdppcap_subregion.to_csv('Dataframes_as_CSV/df_gdppcap_subregion.csv')"
   ]
  },
  {
   "cell_type": "code",
   "execution_count": null,
   "metadata": {},
   "outputs": [],
   "source": [
    "#Separate table for regions\n",
    "gdp_per_capita_df = df_list[0]\n",
    "regions_gdp_df = df_list[0].loc[gdp_per_capita_df['Country Name'].isin([\"Africa Eastern and Southern\",\\\n",
    "                                    \"Africa Western and Central\",\\\n",
    "                                    \"Arab World\",\\\n",
    "                                    \"Central Europe and the Baltics\",\\\n",
    "                                    \"Caribbean small states\",\\\n",
    "                                    \"East Asia & Pacific (excluding high income)\",\\\n",
    "                                    \"East Asia & Pacific\",\\\n",
    "                                    \"Europe & Central Asia (excluding high income)\",\\\n",
    "                                    \"Europe & Central Asia\",\\\n",
    "                                    \"European Union\",\\\n",
    "                                    \"Latin America & Caribbean (excluding high income)\",\\\n",
    "                                    \"Latin America & Caribbean\",\\\n",
    "                                    \"Middle East & North Africa\",\\\n",
    "                                    \"Middle East & North Africa (excluding high income)\",\\\n",
    "                                    \"North America\",\\\n",
    "                                    \"Sub-Saharan Africa (excluding high income)\",\\\n",
    "                                    \"Sub-Saharan Africa\"])]\n",
    "regions_gdp_df.head()"
   ]
  },
  {
   "cell_type": "code",
   "execution_count": null,
   "metadata": {},
   "outputs": [],
   "source": [
    "regions_gdp_df.columns"
   ]
  },
  {
   "cell_type": "code",
   "execution_count": null,
   "metadata": {},
   "outputs": [],
   "source": [
    "regions_gdp_2021_df = regions_gdp_df[['Country Name', '2021']].reset_index(drop=True)\n",
    "regions_gdp_2021_df.rename(columns = {'Country Name' : 'Region', '2021':'GDPPCAP'}, inplace = True)\n",
    "regions_gdp_2021_df"
   ]
  },
  {
   "cell_type": "code",
   "execution_count": null,
   "metadata": {},
   "outputs": [],
   "source": [
    "#Getting life expectancy for years, where we have values\n",
    "life_expectancy_df = df_list[1]\n",
    "life_expectancy_df2 = life_expectancy_df.drop(['Indicator Code', '1960', '1961',\n",
    "       '1962', '1963', '1964', '1965', '1966', '1967', '1968', '1969', '1970',\n",
    "       '1971', '1972', '1973', '1974', '1975', '1976', '1977', '1978', '1979',\n",
    "       '1980', '1981', '1982', '1983', '1984', '1985', '1986', '1987', '1988',\n",
    "       '1989'], axis=1)"
   ]
  },
  {
   "cell_type": "code",
   "execution_count": null,
   "metadata": {},
   "outputs": [],
   "source": [
    "life_expectancy_2021_df=life_expectancy_df2[['Country Name', '2021']].reset_index(drop=True)\n",
    "life_expectancy_2021_df.rename(columns = {'Country Name' : 'Region', '2021':'Life expectancy'}, inplace = True)\n",
    "life_expectancy_2021_df"
   ]
  },
  {
   "cell_type": "code",
   "execution_count": null,
   "metadata": {},
   "outputs": [],
   "source": [
    "#Joining tables together\n",
    "Region_life_expectancy_GDPCAP_df=life_expectancy_2021_df.merge(regions_gdp_2021_df, on='Region', how='inner')\n",
    "Region_life_expectancy_GDPCAP_df"
   ]
  },
  {
   "cell_type": "code",
   "execution_count": null,
   "metadata": {},
   "outputs": [],
   "source": [
    "plt.figure(figsize=(10, 10))\n",
    "sns.scatterplot(data=Region_life_expectancy_GDPCAP_df, x='Life expectancy', y='GDPPCAP', hue='Region').set_title('GDPPCAP vs Life expectancy')\n",
    "plt.savefig(\"Figures/Figure3.png\")"
   ]
  },
  {
   "cell_type": "code",
   "execution_count": null,
   "metadata": {},
   "outputs": [],
   "source": [
    "#Also that as csv file:\n",
    "Region_life_expectancy_GDPCAP_df.to_csv('Dataframes_as_CSV/Region_life_expectancy_GDPCAP_df.csv')"
   ]
  },
  {
   "cell_type": "code",
   "execution_count": null,
   "metadata": {},
   "outputs": [],
   "source": [
    "#The same as above, but for individual countries\n",
    "df_gdppcap=df_countries_small.merge(df_list[0], on='Country Name', how='inner')\n",
    "#For life expectancy\n",
    "df_lifeexp=df_countries_small.merge(df_list[1], on='Country Name', how='inner')"
   ]
  },
  {
   "cell_type": "code",
   "execution_count": null,
   "metadata": {},
   "outputs": [],
   "source": [
    "df_gdppcap_2021=df_gdppcap[['Country Name','2021']].dropna()\n",
    "df_gdppcap_2021 = df_gdppcap_2021.rename(columns={'2021': 'GDPPCAP'})\n",
    "df_lifeexp_2021=df_lifeexp[['Country Name','region','2021']].dropna()\n",
    "df_lifeexp_2021 = df_lifeexp_2021.rename(columns={'2021': 'Life expectancy'})\n"
   ]
  },
  {
   "cell_type": "code",
   "execution_count": null,
   "metadata": {},
   "outputs": [],
   "source": [
    "df_lifeexp_gdpcap_2021=df_lifeexp_2021.merge(df_gdppcap_2021, on='Country Name', how='inner')\n",
    "df_lifeexp_gdpcap_2021.head()"
   ]
  },
  {
   "cell_type": "code",
   "execution_count": null,
   "metadata": {},
   "outputs": [],
   "source": [
    "plt.figure(figsize=(10, 10))\n",
    "sns.scatterplot(data=df_lifeexp_gdpcap_2021, x='Life expectancy', y='GDPPCAP', hue='region').set_title('GDPPCAP vs Life expectancy')\n",
    "#plt.legend(labels = ['Asia', 'Europe', 'Africa', 'Americas', 'Oceania'])\n",
    "plt.legend(title='Region')\n",
    "plt.savefig(\"Figures/Figure4.png\")\n",
    "None"
   ]
  },
  {
   "cell_type": "code",
   "execution_count": null,
   "metadata": {},
   "outputs": [],
   "source": [
    "df_lifeexp_gdpcap_2021.to_csv('Dataframes_as_CSV/df_lifeexp_gdpcap_2021.csv')"
   ]
  },
  {
   "cell_type": "code",
   "execution_count": null,
   "metadata": {},
   "outputs": [],
   "source": [
    "#Now going to extract data for Estonia\n",
    "df_gdppcap_estonia=df_gdppcap.loc[df_gdppcap['Country Name'] == 'Estonia']"
   ]
  },
  {
   "cell_type": "code",
   "execution_count": null,
   "metadata": {},
   "outputs": [],
   "source": [
    "df_gdppcap_estonia.head()"
   ]
  },
  {
   "cell_type": "code",
   "execution_count": null,
   "metadata": {},
   "outputs": [],
   "source": [
    "#Extract years from column names, 1995-2021\n",
    "years=list(df_gdppcap.columns)[-27:]\n"
   ]
  },
  {
   "cell_type": "code",
   "execution_count": null,
   "metadata": {},
   "outputs": [],
   "source": [
    "estonia_gdppcap=df_gdppcap_estonia[years].values.flatten().tolist()            "
   ]
  },
  {
   "cell_type": "code",
   "execution_count": null,
   "metadata": {},
   "outputs": [],
   "source": [
    "df_lifeexp_estonia=df_lifeexp.loc[df_lifeexp['Country Name'] == 'Estonia']"
   ]
  },
  {
   "cell_type": "code",
   "execution_count": null,
   "metadata": {},
   "outputs": [],
   "source": [
    "estonia_lifeexp=df_lifeexp_estonia[years].values.flatten().tolist()"
   ]
  },
  {
   "cell_type": "code",
   "execution_count": null,
   "metadata": {},
   "outputs": [],
   "source": [
    "est={'Year':years, 'GDPPCAP':estonia_gdppcap, 'Life expectancy':estonia_lifeexp}\n",
    "df_estonia=pd.DataFrame(est)"
   ]
  },
  {
   "cell_type": "code",
   "execution_count": null,
   "metadata": {},
   "outputs": [],
   "source": [
    "#df_estonia.melt(id_vars=['Year'])\n",
    "df_estonia.head()"
   ]
  },
  {
   "cell_type": "code",
   "execution_count": null,
   "metadata": {},
   "outputs": [],
   "source": [
    "fig, ax1 = plt.subplots()\n",
    "color = 'tab:red'\n",
    "ax1.set_title('GDPPCAP vs Life expectancy')\n",
    "ax1.set_xlabel('Year')\n",
    "ax1.set_ylabel('GDPPCAP', color=color)\n",
    "ax1.plot(df_estonia['Year'], df_estonia['GDPPCAP'], color=color)\n",
    "ax1.tick_params(axis='y', labelcolor=color)\n",
    "plt.xticks(rotation=45)\n",
    "\n",
    "ax2 = ax1.twinx()\n",
    "color = 'tab:blue'\n",
    "ax2.set_ylabel('Life expectancy', color=color) \n",
    "ax2.plot(df_estonia['Year'], df_estonia['Life expectancy'], color=color)\n",
    "ax2.tick_params(axis='y', labelcolor=color)\n",
    "\n",
    "fig.tight_layout()\n",
    "plt.savefig(\"Figures/Figure5.png\")\n"
   ]
  },
  {
   "cell_type": "code",
   "execution_count": null,
   "metadata": {},
   "outputs": [],
   "source": [
    "#Also that to csv file\n",
    "df_estonia.to_csv('Dataframes_as_CSV/df_estonia.csv')"
   ]
  }
 ],
 "metadata": {
  "kernelspec": {
   "display_name": "Python 3",
   "language": "python",
   "name": "python3"
  },
  "language_info": {
   "codemirror_mode": {
    "name": "ipython",
    "version": 3
   },
   "file_extension": ".py",
   "mimetype": "text/x-python",
   "name": "python",
   "nbconvert_exporter": "python",
   "pygments_lexer": "ipython3",
   "version": "3.11.3"
  },
  "orig_nbformat": 4
 },
 "nbformat": 4,
 "nbformat_minor": 2
}
